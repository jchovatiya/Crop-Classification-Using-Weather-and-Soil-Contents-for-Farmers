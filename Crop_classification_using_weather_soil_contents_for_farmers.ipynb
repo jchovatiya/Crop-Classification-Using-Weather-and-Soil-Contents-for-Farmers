{
 "cells": [
  {
   "cell_type": "code",
   "execution_count": null,
   "id": "ad78f4bd",
   "metadata": {},
   "outputs": [],
   "source": [
    "import warnings\n",
    "warnings.filterwarnings(\"ignore\")\n",
    "\n",
    "import numpy as np\n",
    "import pandas as pd\n",
    "import matplotlib.pyplot as plt\n",
    "import seaborn as sns\n",
    "sns.set()"
   ]
  },
  {
   "cell_type": "code",
   "execution_count": null,
   "id": "f7eaa689",
   "metadata": {},
   "outputs": [],
   "source": [
    "data = pd.read_csv('Crop_recommendation.csv')\n",
    "data.head(n=10)"
   ]
  },
  {
   "cell_type": "code",
   "execution_count": null,
   "id": "e077c362",
   "metadata": {},
   "outputs": [],
   "source": [
    "data.shape"
   ]
  },
  {
   "cell_type": "code",
   "execution_count": null,
   "id": "165194eb",
   "metadata": {},
   "outputs": [],
   "source": [
    "data.info()"
   ]
  },
  {
   "cell_type": "code",
   "execution_count": null,
   "id": "54ecb6de",
   "metadata": {},
   "outputs": [],
   "source": [
    "sns.pairplot(data,hue='label')"
   ]
  },
  {
   "cell_type": "code",
   "execution_count": null,
   "id": "945f14ed",
   "metadata": {},
   "outputs": [],
   "source": [
    "data.describe()"
   ]
  },
  {
   "cell_type": "code",
   "execution_count": null,
   "id": "e29b8e31",
   "metadata": {},
   "outputs": [],
   "source": [
    "data['label'].value_counts()"
   ]
  },
  {
   "cell_type": "code",
   "execution_count": null,
   "id": "66ed7f3f",
   "metadata": {},
   "outputs": [],
   "source": [
    "data.columns"
   ]
  },
  {
   "cell_type": "code",
   "execution_count": null,
   "id": "50729311",
   "metadata": {
    "scrolled": false
   },
   "outputs": [],
   "source": [
    "plt.figure(figsize=(10,50))\n",
    "plt.subplot(7,1,1)\n",
    "sns.boxplot(data=data,y='label',x='N')\n",
    "plt.subplot(7,1,2)\n",
    "sns.boxplot(data=data,y='label',x='P')\n",
    "plt.subplot(7,1,3)\n",
    "sns.boxplot(data=data,y='label',x='K')\n",
    "plt.subplot(7,1,4)\n",
    "sns.boxplot(data=data,y='label',x='temperature')\n",
    "plt.subplot(7,1,5)\n",
    "sns.boxplot(data=data,y='label',x='humidity')\n",
    "plt.subplot(7,1,6)\n",
    "sns.boxplot(data=data,y='label',x='ph')\n",
    "plt.subplot(7,1,7)\n",
    "sns.boxplot(data=data,y='label',x='rainfall')\n",
    "plt.show()"
   ]
  },
  {
   "cell_type": "code",
   "execution_count": null,
   "id": "1145b2c7",
   "metadata": {},
   "outputs": [],
   "source": [
    "plt.figure(figsize=(10,50))\n",
    "plt.subplot(7,1,1)\n",
    "sns.distplot(data['N'],color='b')\n",
    "plt.subplot(7,1,2)\n",
    "sns.distplot(data['P'],color='g')\n",
    "plt.subplot(7,1,3)\n",
    "sns.distplot(data['N'],color='r')\n",
    "plt.subplot(7,1,4)\n",
    "sns.distplot(data['temperature'],color='c')\n",
    "plt.subplot(7,1,5)\n",
    "sns.distplot(data['humidity'],color='m')\n",
    "plt.subplot(7,1,6)\n",
    "sns.distplot(data['ph'],color='y')\n",
    "plt.subplot(7,1,7)\n",
    "sns.distplot(data['rainfall'],color='k')\n",
    "plt.show()"
   ]
  },
  {
   "cell_type": "code",
   "execution_count": null,
   "id": "7d04f845",
   "metadata": {},
   "outputs": [],
   "source": [
    "sns.heatmap(data.corr(),annot=True)"
   ]
  },
  {
   "cell_type": "code",
   "execution_count": null,
   "id": "1f474ddc",
   "metadata": {},
   "outputs": [],
   "source": [
    "y=data['label']\n",
    "X=data.iloc[:,:-1]\n"
   ]
  },
  {
   "cell_type": "code",
   "execution_count": null,
   "id": "26aacbe4",
   "metadata": {},
   "outputs": [],
   "source": []
  },
  {
   "cell_type": "code",
   "execution_count": null,
   "id": "0887cb9f",
   "metadata": {},
   "outputs": [],
   "source": []
  },
  {
   "cell_type": "code",
   "execution_count": null,
   "id": "88b219a3",
   "metadata": {},
   "outputs": [],
   "source": [
    "from pycaret.classification import *"
   ]
  },
  {
   "cell_type": "code",
   "execution_count": null,
   "id": "5171a3fd",
   "metadata": {},
   "outputs": [],
   "source": [
    "cl_1= setup(data=X,target=y,session_id=2)"
   ]
  },
  {
   "cell_type": "code",
   "execution_count": null,
   "id": "f243be4a",
   "metadata": {},
   "outputs": [],
   "source": [
    "clf_2= setup(data = X, target = y,pca=True,pca_components=0.95, session_id=5)"
   ]
  },
  {
   "cell_type": "code",
   "execution_count": null,
   "id": "c5799556",
   "metadata": {},
   "outputs": [],
   "source": [
    "compare_models()"
   ]
  },
  {
   "cell_type": "code",
   "execution_count": null,
   "id": "93bfdb2f",
   "metadata": {},
   "outputs": [],
   "source": [
    "KNN= create_model('knn')"
   ]
  },
  {
   "cell_type": "code",
   "execution_count": null,
   "id": "3b3024dd",
   "metadata": {},
   "outputs": [],
   "source": [
    "plot_model(KNN,plot='auc')"
   ]
  },
  {
   "cell_type": "code",
   "execution_count": null,
   "id": "115b9733",
   "metadata": {},
   "outputs": [],
   "source": []
  },
  {
   "cell_type": "code",
   "execution_count": null,
   "id": "062035b4",
   "metadata": {},
   "outputs": [],
   "source": [
    "\n",
    "from sklearn import preprocessing\n",
    "enco= preprocessing.LabelEncoder()\n",
    "y=enco.fit_transform(y)\n",
    "y=pd.DataFrame(y)\n"
   ]
  },
  {
   "cell_type": "code",
   "execution_count": null,
   "id": "30558c04",
   "metadata": {},
   "outputs": [],
   "source": [
    "from sklearn.preprocessing import MinMaxScaler\n",
    "\n",
    "scal= MinMaxScaler()\n",
    "X_scal= scal.fit_transform(X)\n",
    "X_scal= pd.DataFrame(X_scal)\n"
   ]
  },
  {
   "cell_type": "code",
   "execution_count": null,
   "id": "58e666e3",
   "metadata": {},
   "outputs": [],
   "source": [
    "from sklearn.model_selection import train_test_split\n",
    "\n",
    "X_train, X_test, y_train, y_test = train_test_split(X_scal,y,random_state=8,train_size=0.80)"
   ]
  },
  {
   "cell_type": "code",
   "execution_count": null,
   "id": "368847df",
   "metadata": {},
   "outputs": [],
   "source": [
    "from sklearn.neighbors import KNeighborsClassifier\n",
    "\n",
    "knn= KNeighborsClassifier()\n",
    "knn.fit(X_train,y_train)"
   ]
  },
  {
   "cell_type": "code",
   "execution_count": null,
   "id": "20cbabec",
   "metadata": {},
   "outputs": [],
   "source": [
    "knn.score(X_test,y_test)"
   ]
  },
  {
   "cell_type": "code",
   "execution_count": null,
   "id": "de194c86",
   "metadata": {},
   "outputs": [],
   "source": [
    "from sklearn.metrics import confusion_matrix\n",
    "m= confusion_matrix(y_test,knn.predict(X_test))\n",
    "sns.heatmap(m,annot=True)"
   ]
  },
  {
   "cell_type": "code",
   "execution_count": null,
   "id": "8d4a108b",
   "metadata": {},
   "outputs": [],
   "source": [
    "from sklearn.linear_model import LogisticRegression\n",
    "model= LogisticRegression()\n",
    "model.fit(X_train,y_train)\n",
    "model.score(X_train,y_train)"
   ]
  },
  {
   "cell_type": "code",
   "execution_count": null,
   "id": "352b2310",
   "metadata": {},
   "outputs": [],
   "source": [
    "from sklearn.svm import SVC\n",
    "model= SVC()\n",
    "model.fit(X_train,y_train)\n",
    "model.score(X_train,y_train)"
   ]
  },
  {
   "cell_type": "code",
   "execution_count": null,
   "id": "48457963",
   "metadata": {},
   "outputs": [],
   "source": [
    "ccc=enco.inverse_transform([2])\n",
    "ccc[0]"
   ]
  },
  {
   "cell_type": "code",
   "execution_count": null,
   "id": "75a1572f",
   "metadata": {},
   "outputs": [],
   "source": []
  },
  {
   "cell_type": "code",
   "execution_count": null,
   "id": "b0573f3a",
   "metadata": {},
   "outputs": [],
   "source": []
  },
  {
   "cell_type": "code",
   "execution_count": null,
   "id": "d49b45e7",
   "metadata": {},
   "outputs": [],
   "source": []
  }
 ],
 "metadata": {
  "kernelspec": {
   "display_name": "Python 3 (ipykernel)",
   "language": "python",
   "name": "python3"
  },
  "language_info": {
   "codemirror_mode": {
    "name": "ipython",
    "version": 3
   },
   "file_extension": ".py",
   "mimetype": "text/x-python",
   "name": "python",
   "nbconvert_exporter": "python",
   "pygments_lexer": "ipython3",
   "version": "3.9.12"
  }
 },
 "nbformat": 4,
 "nbformat_minor": 5
}
